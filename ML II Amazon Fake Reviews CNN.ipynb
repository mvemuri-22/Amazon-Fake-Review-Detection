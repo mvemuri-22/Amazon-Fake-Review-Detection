{
 "cells": [
  {
   "cell_type": "code",
   "execution_count": 1,
   "id": "ae7c2dee-f11d-4c52-9d93-d2855b500f6f",
   "metadata": {},
   "outputs": [
    {
     "name": "stderr",
     "output_type": "stream",
     "text": [
      "[nltk_data] Downloading package stopwords to\n",
      "[nltk_data]     /Users/kurtfischer/nltk_data...\n",
      "[nltk_data]   Unzipping corpora/stopwords.zip.\n"
     ]
    },
    {
     "data": {
      "text/plain": [
       "True"
      ]
     },
     "execution_count": 1,
     "metadata": {},
     "output_type": "execute_result"
    }
   ],
   "source": [
    "import pandas as pd\n",
    "from nltk.corpus import stopwords\n",
    "from nltk.stem import PorterStemmer\n",
    "from sklearn.model_selection import train_test_split\n",
    "from tensorflow.keras.preprocessing.text import Tokenizer\n",
    "from tensorflow.keras.preprocessing.sequence import pad_sequences\n",
    "from tensorflow.keras.models import Sequential\n",
    "from tensorflow.keras.layers import Embedding, Conv1D, GlobalMaxPooling1D, Dense, Dropout\n",
    "from tensorflow.keras.callbacks import EarlyStopping\n",
    "import nltk\n",
    "nltk.download('stopwords')"
   ]
  },
  {
   "cell_type": "markdown",
   "id": "aac08dbe-761f-4aa1-a1b0-71d1b9e4e074",
   "metadata": {},
   "source": [
    "# Loading and Preprocessing"
   ]
  },
  {
   "cell_type": "code",
   "execution_count": 4,
   "id": "c39df5fd-29a5-414f-a9e0-39fbcdb5cd83",
   "metadata": {},
   "outputs": [
    {
     "data": {
      "text/html": [
       "<div>\n",
       "<style scoped>\n",
       "    .dataframe tbody tr th:only-of-type {\n",
       "        vertical-align: middle;\n",
       "    }\n",
       "\n",
       "    .dataframe tbody tr th {\n",
       "        vertical-align: top;\n",
       "    }\n",
       "\n",
       "    .dataframe thead th {\n",
       "        text-align: right;\n",
       "    }\n",
       "</style>\n",
       "<table border=\"1\" class=\"dataframe\">\n",
       "  <thead>\n",
       "    <tr style=\"text-align: right;\">\n",
       "      <th></th>\n",
       "      <th>category</th>\n",
       "      <th>rating</th>\n",
       "      <th>text</th>\n",
       "      <th>label</th>\n",
       "    </tr>\n",
       "  </thead>\n",
       "  <tbody>\n",
       "    <tr>\n",
       "      <th>0</th>\n",
       "      <td>Home_and_Kitchen</td>\n",
       "      <td>5.0</td>\n",
       "      <td>Love this!  Well made, sturdy, and very comfor...</td>\n",
       "      <td>1</td>\n",
       "    </tr>\n",
       "    <tr>\n",
       "      <th>1</th>\n",
       "      <td>Home_and_Kitchen</td>\n",
       "      <td>5.0</td>\n",
       "      <td>love it, a great upgrade from the original.  I...</td>\n",
       "      <td>1</td>\n",
       "    </tr>\n",
       "    <tr>\n",
       "      <th>2</th>\n",
       "      <td>Home_and_Kitchen</td>\n",
       "      <td>5.0</td>\n",
       "      <td>This pillow saved my back. I love the look and...</td>\n",
       "      <td>1</td>\n",
       "    </tr>\n",
       "    <tr>\n",
       "      <th>3</th>\n",
       "      <td>Home_and_Kitchen</td>\n",
       "      <td>1.0</td>\n",
       "      <td>Missing information on how to use it, but it i...</td>\n",
       "      <td>1</td>\n",
       "    </tr>\n",
       "    <tr>\n",
       "      <th>4</th>\n",
       "      <td>Home_and_Kitchen</td>\n",
       "      <td>5.0</td>\n",
       "      <td>Very nice set. Good quality. We have had the s...</td>\n",
       "      <td>1</td>\n",
       "    </tr>\n",
       "  </tbody>\n",
       "</table>\n",
       "</div>"
      ],
      "text/plain": [
       "           category  rating  \\\n",
       "0  Home_and_Kitchen     5.0   \n",
       "1  Home_and_Kitchen     5.0   \n",
       "2  Home_and_Kitchen     5.0   \n",
       "3  Home_and_Kitchen     1.0   \n",
       "4  Home_and_Kitchen     5.0   \n",
       "\n",
       "                                                text  label  \n",
       "0  Love this!  Well made, sturdy, and very comfor...      1  \n",
       "1  love it, a great upgrade from the original.  I...      1  \n",
       "2  This pillow saved my back. I love the look and...      1  \n",
       "3  Missing information on how to use it, but it i...      1  \n",
       "4  Very nice set. Good quality. We have had the s...      1  "
      ]
     },
     "execution_count": 4,
     "metadata": {},
     "output_type": "execute_result"
    }
   ],
   "source": [
    "df = pd.read_csv('fake_reviews_dataset.csv')\n",
    "df.head()"
   ]
  },
  {
   "cell_type": "code",
   "execution_count": 6,
   "id": "78c0d914-d566-4c3f-82c1-3b74168810b5",
   "metadata": {},
   "outputs": [],
   "source": [
    "def preprocess_and_split_data(df):\n",
    "    # Load stop words and initialize stemmer\n",
    "    stop_words = set(stopwords.words('english'))\n",
    "    stemmer = PorterStemmer()\n",
    "\n",
    "    # Preprocessing function: remove stop words and apply stemming\n",
    "    def preprocess_text(text):\n",
    "        words = text.split()\n",
    "        filtered_words = [stemmer.stem(word) for word in words if word.lower() not in stop_words]\n",
    "        return ' '.join(filtered_words)\n",
    "\n",
    "    # Save a copy of the original text\n",
    "    df['original_text'] = df['text']\n",
    "\n",
    "    # Split the data into training and testing sets (80% train, 20% test)\n",
    "    X = df['text']  # Features (text data)\n",
    "    y = df['label']  # Labels\n",
    "    X_train, X_test, y_train, y_test = train_test_split(X, y, test_size=0.2, random_state=42)\n",
    "\n",
    "    # Apply preprocessing to the training and testing sets separately\n",
    "    X_train = X_train.apply(preprocess_text)\n",
    "    X_test = X_test.apply(preprocess_text)\n",
    "\n",
    "    # Tokenize and pad sequences\n",
    "    max_words = 10000  # Maximum number of words in vocabulary\n",
    "    max_len = 100      # Max sequence length\n",
    "    tokenizer = Tokenizer(num_words=max_words)\n",
    "    tokenizer.fit_on_texts(X_train)\n",
    "\n",
    "    X_train_seq = tokenizer.texts_to_sequences(X_train)\n",
    "    X_test_seq = tokenizer.texts_to_sequences(X_test)\n",
    "\n",
    "    X_train_pad = pad_sequences(X_train_seq, maxlen=max_len, padding='post')\n",
    "    X_test_pad = pad_sequences(X_test_seq, maxlen=max_len, padding='post')\n",
    "\n",
    "    # Return the processed datasets and tokenizer\n",
    "    return X_train_pad, X_test_pad, y_train, y_test, tokenizer"
   ]
  },
  {
   "cell_type": "code",
   "execution_count": 8,
   "id": "5fd17621-3a96-495d-b446-e4d2ae07387f",
   "metadata": {},
   "outputs": [
    {
     "name": "stdout",
     "output_type": "stream",
     "text": [
      "Train shape: (32420, 100)\n",
      "Test shape: (8106, 100)\n"
     ]
    }
   ],
   "source": [
    "X_train, X_test, y_train, y_test, tokenizer = preprocess_and_split_data(df)\n",
    "\n",
    "print(\"Train shape:\", X_train.shape)\n",
    "print(\"Test shape:\", X_test.shape)"
   ]
  },
  {
   "cell_type": "markdown",
   "id": "d6187ee7-f43b-498f-9984-2de46ddee948",
   "metadata": {},
   "source": [
    "# Base CNN Model"
   ]
  },
  {
   "cell_type": "code",
   "execution_count": 13,
   "id": "9c3ef501-be34-45c9-abdb-bfd7a1a0878c",
   "metadata": {},
   "outputs": [],
   "source": [
    "model = Sequential([\n",
    "    Embedding(input_dim=10000, output_dim=64),\n",
    "    Conv1D(filters=128, kernel_size=5, activation='relu'),\n",
    "    GlobalMaxPooling1D(),\n",
    "    Dense(32, activation='relu'),\n",
    "    Dropout(0.5),\n",
    "    Dense(1, activation='sigmoid')\n",
    "])"
   ]
  },
  {
   "cell_type": "code",
   "execution_count": 15,
   "id": "a8cdd89d-66d9-42a3-8658-4f9c3f34095d",
   "metadata": {},
   "outputs": [],
   "source": [
    "model.compile(optimizer='adam', loss='binary_crossentropy', metrics=['accuracy'])"
   ]
  },
  {
   "cell_type": "code",
   "execution_count": 17,
   "id": "9ad726c9-746d-4213-9e6b-b1fe63ddd11c",
   "metadata": {},
   "outputs": [
    {
     "name": "stdout",
     "output_type": "stream",
     "text": [
      "Epoch 1/20\n",
      "\u001b[1m811/811\u001b[0m \u001b[32m━━━━━━━━━━━━━━━━━━━━\u001b[0m\u001b[37m\u001b[0m \u001b[1m3s\u001b[0m 4ms/step - accuracy: 0.7575 - loss: 0.4824 - val_accuracy: 0.8984 - val_loss: 0.2502\n",
      "Epoch 2/20\n",
      "\u001b[1m811/811\u001b[0m \u001b[32m━━━━━━━━━━━━━━━━━━━━\u001b[0m\u001b[37m\u001b[0m \u001b[1m3s\u001b[0m 4ms/step - accuracy: 0.9320 - loss: 0.1898 - val_accuracy: 0.9042 - val_loss: 0.2433\n",
      "Epoch 3/20\n",
      "\u001b[1m811/811\u001b[0m \u001b[32m━━━━━━━━━━━━━━━━━━━━\u001b[0m\u001b[37m\u001b[0m \u001b[1m4s\u001b[0m 5ms/step - accuracy: 0.9681 - loss: 0.0972 - val_accuracy: 0.9050 - val_loss: 0.2736\n",
      "Epoch 4/20\n",
      "\u001b[1m811/811\u001b[0m \u001b[32m━━━━━━━━━━━━━━━━━━━━\u001b[0m\u001b[37m\u001b[0m \u001b[1m4s\u001b[0m 5ms/step - accuracy: 0.9845 - loss: 0.0522 - val_accuracy: 0.8968 - val_loss: 0.3489\n",
      "Epoch 5/20\n",
      "\u001b[1m811/811\u001b[0m \u001b[32m━━━━━━━━━━━━━━━━━━━━\u001b[0m\u001b[37m\u001b[0m \u001b[1m4s\u001b[0m 5ms/step - accuracy: 0.9922 - loss: 0.0286 - val_accuracy: 0.8970 - val_loss: 0.4232\n"
     ]
    }
   ],
   "source": [
    "early_stopping = EarlyStopping(monitor='val_loss', patience=3, restore_best_weights=True)\n",
    "\n",
    "history = model.fit(\n",
    "    X_train,\n",
    "    y_train,\n",
    "    epochs=20,\n",
    "    batch_size=32,\n",
    "    validation_split=0.2,\n",
    "    callbacks=[early_stopping]\n",
    ")"
   ]
  },
  {
   "cell_type": "code",
   "execution_count": 19,
   "id": "1168adec-a01a-4939-8335-b617f973ecd4",
   "metadata": {},
   "outputs": [
    {
     "name": "stdout",
     "output_type": "stream",
     "text": [
      "\u001b[1m254/254\u001b[0m \u001b[32m━━━━━━━━━━━━━━━━━━━━\u001b[0m\u001b[37m\u001b[0m \u001b[1m0s\u001b[0m 1ms/step - accuracy: 0.8967 - loss: 0.2570\n",
      "CNN Test Accuracy: 0.8994572162628174\n"
     ]
    }
   ],
   "source": [
    "loss, accuracy = model.evaluate(X_test, y_test)\n",
    "print(\"CNN Test Accuracy:\", accuracy)"
   ]
  },
  {
   "cell_type": "markdown",
   "id": "14ef7ff5-feda-452e-a759-0fa02741d391",
   "metadata": {},
   "source": [
    "# Varying number of filters and kernel sizes"
   ]
  },
  {
   "cell_type": "code",
   "execution_count": 24,
   "id": "5cc2b264-7a05-4267-b844-5535c006dfe6",
   "metadata": {},
   "outputs": [
    {
     "name": "stdout",
     "output_type": "stream",
     "text": [
      "\n",
      "Training: filters_64_kernel_3\n",
      "\n",
      "Training: filters_64_kernel_5\n",
      "\n",
      "Training: filters_64_kernel_7\n",
      "\n",
      "Training: filters_128_kernel_3\n",
      "\n",
      "Training: filters_128_kernel_5\n",
      "\n",
      "Training: filters_128_kernel_7\n",
      "\n",
      "Training: filters_256_kernel_3\n",
      "\n",
      "Training: filters_256_kernel_5\n",
      "\n",
      "Training: filters_256_kernel_7\n",
      "                  Model  Test Accuracy\n",
      "0   filters_64_kernel_3       0.899334\n",
      "1   filters_64_kernel_5       0.898594\n",
      "2   filters_64_kernel_7       0.902665\n",
      "3  filters_128_kernel_3       0.890945\n",
      "4  filters_128_kernel_5       0.893782\n",
      "5  filters_128_kernel_7       0.902418\n",
      "6  filters_256_kernel_3       0.896496\n",
      "7  filters_256_kernel_5       0.901308\n",
      "8  filters_256_kernel_7       0.904515\n"
     ]
    }
   ],
   "source": [
    "# Filter and kernel experiment configurations\n",
    "conv_experiments = [\n",
    "    {\"name\": f\"filters_{f}_kernel_{k}\", \"filters\": f, \"kernel_size\": k}\n",
    "    for f in [64, 128, 256]\n",
    "    for k in [3, 5, 7]\n",
    "]\n",
    "\n",
    "# Store results\n",
    "conv_results = []\n",
    "\n",
    "for config in conv_experiments:\n",
    "    print(f\"\\nTraining: {config['name']}\")\n",
    "    \n",
    "    model = Sequential([\n",
    "        Embedding(input_dim=10000, output_dim=64),\n",
    "        Conv1D(filters=config[\"filters\"], kernel_size=config[\"kernel_size\"], activation='relu'),\n",
    "        GlobalMaxPooling1D(),\n",
    "        Dense(32, activation='relu'),\n",
    "        Dropout(0.5),\n",
    "        Dense(1, activation='sigmoid')\n",
    "    ])\n",
    "\n",
    "    model.compile(optimizer='adam', loss='binary_crossentropy', metrics=['accuracy'])\n",
    "\n",
    "    early_stopping = EarlyStopping(monitor='val_loss', patience=3, restore_best_weights=True)\n",
    "\n",
    "    history = model.fit(\n",
    "        X_train,\n",
    "        y_train,\n",
    "        epochs=20,\n",
    "        batch_size=32,\n",
    "        validation_split=0.2,\n",
    "        callbacks=[early_stopping],\n",
    "        verbose=0\n",
    "    )\n",
    "\n",
    "    loss, accuracy = model.evaluate(X_test, y_test, verbose=0)\n",
    "    conv_results.append((config[\"name\"], accuracy))\n",
    "\n",
    "results_df = pd.DataFrame(conv_results, columns=[\"Model\", \"Test Accuracy\"])\n",
    "print(results_df)"
   ]
  },
  {
   "cell_type": "markdown",
   "id": "4bf93bc5-678f-47ce-9ce8-cc48ef02fca9",
   "metadata": {},
   "source": [
    "# Varying pooling strategy"
   ]
  },
  {
   "cell_type": "code",
   "execution_count": 29,
   "id": "de89df59-dcb0-454b-bf29-96256afec7da",
   "metadata": {},
   "outputs": [
    {
     "name": "stdout",
     "output_type": "stream",
     "text": [
      "\n",
      "Training: global_max\n",
      "\n",
      "Training: max_then_global\n",
      "\n",
      "Training: avg_then_global\n",
      "             Model  Test Accuracy\n",
      "0       global_max       0.892549\n",
      "1  max_then_global       0.900938\n",
      "2  avg_then_global       0.895386\n"
     ]
    }
   ],
   "source": [
    "from tensorflow.keras.layers import MaxPooling1D, AveragePooling1D\n",
    "\n",
    "# Pooling layer experiment configurations\n",
    "pooling_experiments = [\n",
    "    {\"name\": \"global_max\", \"pooling\": \"global\"},\n",
    "    {\"name\": \"max_then_global\", \"pooling\": \"max_then_global\"},\n",
    "    {\"name\": \"avg_then_global\", \"pooling\": \"avg_then_global\"},\n",
    "]\n",
    "\n",
    "pooling_results = []\n",
    "\n",
    "for config in pooling_experiments:\n",
    "    print(f\"\\nTraining: {config['name']}\")\n",
    "    \n",
    "    model = Sequential()\n",
    "    model.add(Embedding(input_dim=10000, output_dim=64))\n",
    "    model.add(Conv1D(filters=128, kernel_size=5, activation='relu'))\n",
    "\n",
    "    # Apply pooling strategy\n",
    "    if config[\"pooling\"] == \"max_then_global\":\n",
    "        model.add(MaxPooling1D(pool_size=2))\n",
    "    elif config[\"pooling\"] == \"avg_then_global\":\n",
    "        model.add(AveragePooling1D(pool_size=2))\n",
    "    \n",
    "    model.add(GlobalMaxPooling1D())\n",
    "    model.add(Dense(32, activation='relu'))\n",
    "    model.add(Dropout(0.5))\n",
    "    model.add(Dense(1, activation='sigmoid'))\n",
    "\n",
    "    model.compile(optimizer='adam', loss='binary_crossentropy', metrics=['accuracy'])\n",
    "\n",
    "    early_stopping = EarlyStopping(monitor='val_loss', patience=3, restore_best_weights=True)\n",
    "\n",
    "    history = model.fit(\n",
    "        X_train,\n",
    "        y_train,\n",
    "        epochs=20,\n",
    "        batch_size=32,\n",
    "        validation_split=0.2,\n",
    "        callbacks=[early_stopping],\n",
    "        verbose=0\n",
    "    )\n",
    "\n",
    "    loss, accuracy = model.evaluate(X_test, y_test, verbose=0)\n",
    "    pooling_results.append((config[\"name\"], accuracy))\n",
    "\n",
    "pooling_results_df = pd.DataFrame(pooling_results, columns=[\"Model\", \"Test Accuracy\"])\n",
    "print(pooling_results_df)"
   ]
  },
  {
   "cell_type": "markdown",
   "id": "966bed38-b198-4061-8202-31b1c2e3afaa",
   "metadata": {},
   "source": [
    "# Dense layer experimentation"
   ]
  },
  {
   "cell_type": "code",
   "execution_count": 34,
   "id": "51cbb888-7be5-4e0c-b8b1-46a269a059c3",
   "metadata": {},
   "outputs": [
    {
     "name": "stdout",
     "output_type": "stream",
     "text": [
      "\n",
      "Training: dense_32\n",
      "\n",
      "Training: dense_64\n",
      "\n",
      "Training: dense_128\n",
      "\n",
      "Training: dense_64_32\n",
      "\n",
      "Training: dense_64_tanh\n",
      "\n",
      "Training: dense_64_dropout_low\n",
      "\n",
      "Training: dense_64_dropout_none\n",
      "                   Model  Test Accuracy\n",
      "0               dense_32       0.903775\n",
      "1               dense_64       0.899457\n",
      "2              dense_128       0.902788\n",
      "3            dense_64_32       0.901554\n",
      "4          dense_64_tanh       0.899827\n",
      "5   dense_64_dropout_low       0.895263\n",
      "6  dense_64_dropout_none       0.905502\n"
     ]
    }
   ],
   "source": [
    "# Dense layer experiment configurations\n",
    "dense_experiments = [\n",
    "    {\"name\": \"dense_32\", \"layers\": [(\"dense\", 32)], \"dropout\": 0.5, \"activation\": \"relu\"},\n",
    "    {\"name\": \"dense_64\", \"layers\": [(\"dense\", 64)], \"dropout\": 0.5, \"activation\": \"relu\"},\n",
    "    {\"name\": \"dense_128\", \"layers\": [(\"dense\", 128)], \"dropout\": 0.5, \"activation\": \"relu\"},\n",
    "    {\"name\": \"dense_64_32\", \"layers\": [(\"dense\", 64), (\"dense\", 32)], \"dropout\": 0.5, \"activation\": \"relu\"},\n",
    "    {\"name\": \"dense_64_tanh\", \"layers\": [(\"dense\", 64)], \"dropout\": 0.5, \"activation\": \"tanh\"},\n",
    "    {\"name\": \"dense_64_dropout_low\", \"layers\": [(\"dense\", 64)], \"dropout\": 0.2, \"activation\": \"relu\"},\n",
    "    {\"name\": \"dense_64_dropout_none\", \"layers\": [(\"dense\", 64)], \"dropout\": 0.0, \"activation\": \"relu\"},\n",
    "]\n",
    "\n",
    "dense_results = []\n",
    "\n",
    "for config in dense_experiments:\n",
    "    print(f\"\\nTraining: {config['name']}\")\n",
    "    \n",
    "    model = Sequential()\n",
    "    model.add(Embedding(input_dim=10000, output_dim=64))\n",
    "    model.add(Conv1D(filters=128, kernel_size=5, activation='relu'))\n",
    "    model.add(GlobalMaxPooling1D())\n",
    "    \n",
    "    for layer_type, units in config[\"layers\"]:\n",
    "        if layer_type == \"dense\":\n",
    "            model.add(Dense(units, activation=config[\"activation\"]))\n",
    "    \n",
    "    if config[\"dropout\"] > 0:\n",
    "        model.add(Dropout(config[\"dropout\"]))\n",
    "    \n",
    "    model.add(Dense(1, activation='sigmoid'))\n",
    "\n",
    "    model.compile(optimizer='adam', loss='binary_crossentropy', metrics=['accuracy'])\n",
    "\n",
    "    early_stopping = EarlyStopping(monitor='val_loss', patience=3, restore_best_weights=True)\n",
    "\n",
    "    history = model.fit(\n",
    "        X_train,\n",
    "        y_train,\n",
    "        epochs=20,\n",
    "        batch_size=32,\n",
    "        validation_split=0.2,\n",
    "        callbacks=[early_stopping],\n",
    "        verbose=0\n",
    "    )\n",
    "\n",
    "    loss, accuracy = model.evaluate(X_test, y_test, verbose=0)\n",
    "    dense_results.append((config[\"name\"], accuracy))\n",
    "\n",
    "dense_results_df = pd.DataFrame(dense_results, columns=[\"Model\", \"Test Accuracy\"])\n",
    "print(dense_results_df)"
   ]
  },
  {
   "cell_type": "markdown",
   "id": "d990a408-a52c-4049-879f-885339467ff3",
   "metadata": {},
   "source": [
    "# Regularization experimentation"
   ]
  },
  {
   "cell_type": "code",
   "execution_count": 37,
   "id": "25e116b8-31d7-4b59-97aa-ea0f7e6fbf91",
   "metadata": {},
   "outputs": [
    {
     "name": "stdout",
     "output_type": "stream",
     "text": [
      "\n",
      "Training: dropout_0.0\n",
      "\n",
      "Training: dropout_0.2\n",
      "\n",
      "Training: dropout_0.5\n",
      "\n",
      "Training: l2_reg_dense\n",
      "\n",
      "Training: l2_reg_conv\n",
      "\n",
      "Training: l2_reg_both\n",
      "\n",
      "Training: batchnorm_dense\n",
      "\n",
      "Training: batchnorm_conv_dense\n",
      "                  Model  Test Accuracy\n",
      "0           dropout_0.0       0.903282\n",
      "1           dropout_0.2       0.899951\n",
      "2           dropout_0.5       0.894399\n",
      "3          l2_reg_dense       0.889835\n",
      "4           l2_reg_conv       0.892055\n",
      "5           l2_reg_both       0.893166\n",
      "6       batchnorm_dense       0.895016\n",
      "7  batchnorm_conv_dense       0.896003\n"
     ]
    }
   ],
   "source": [
    "from tensorflow.keras.layers import BatchNormalization\n",
    "from tensorflow.keras import regularizers\n",
    "\n",
    "# Regularization experiment configurations\n",
    "regularization_experiments = [\n",
    "    {\"name\": \"dropout_0.0\", \"dropout\": 0.0, \"l2_conv\": None, \"l2_dense\": None, \"batchnorm\": False},\n",
    "    {\"name\": \"dropout_0.2\", \"dropout\": 0.2, \"l2_conv\": None, \"l2_dense\": None, \"batchnorm\": False},\n",
    "    {\"name\": \"dropout_0.5\", \"dropout\": 0.5, \"l2_conv\": None, \"l2_dense\": None, \"batchnorm\": False},\n",
    "    {\"name\": \"l2_reg_dense\", \"dropout\": 0.5, \"l2_conv\": None, \"l2_dense\": 0.01, \"batchnorm\": False},\n",
    "    {\"name\": \"l2_reg_conv\", \"dropout\": 0.5, \"l2_conv\": 0.01, \"l2_dense\": None, \"batchnorm\": False},\n",
    "    {\"name\": \"l2_reg_both\", \"dropout\": 0.5, \"l2_conv\": 0.01, \"l2_dense\": 0.01, \"batchnorm\": False},\n",
    "    {\"name\": \"batchnorm_dense\", \"dropout\": 0.5, \"l2_conv\": None, \"l2_dense\": None, \"batchnorm\": \"dense\"},\n",
    "    {\"name\": \"batchnorm_conv_dense\", \"dropout\": 0.5, \"l2_conv\": None, \"l2_dense\": None, \"batchnorm\": \"conv_dense\"},\n",
    "]\n",
    "\n",
    "regularization_results = []\n",
    "\n",
    "for config in regularization_experiments:\n",
    "    print(f\"\\nTraining: {config['name']}\")\n",
    "    \n",
    "    model = Sequential()\n",
    "    model.add(Embedding(input_dim=10000, output_dim=64))\n",
    "\n",
    "    # Conv1D with optional L2\n",
    "    if config[\"l2_conv\"]:\n",
    "        model.add(Conv1D(filters=128, kernel_size=5, activation='relu',\n",
    "                         kernel_regularizer=regularizers.l2(config[\"l2_conv\"])))\n",
    "    else:\n",
    "        model.add(Conv1D(filters=128, kernel_size=5, activation='relu'))\n",
    "\n",
    "    if config[\"batchnorm\"] == \"conv_dense\":\n",
    "        model.add(BatchNormalization())\n",
    "\n",
    "    model.add(GlobalMaxPooling1D())\n",
    "\n",
    "    # Dense with optional L2\n",
    "    if config[\"l2_dense\"]:\n",
    "        model.add(Dense(64, activation='relu',\n",
    "                        kernel_regularizer=regularizers.l2(config[\"l2_dense\"])))\n",
    "    else:\n",
    "        model.add(Dense(64, activation='relu'))\n",
    "\n",
    "    if config[\"batchnorm\"] in [\"dense\", \"conv_dense\"]:\n",
    "        model.add(BatchNormalization())\n",
    "\n",
    "    # Optional Dropout\n",
    "    if config[\"dropout\"] > 0:\n",
    "        model.add(Dropout(config[\"dropout\"]))\n",
    "\n",
    "    model.add(Dense(1, activation='sigmoid'))\n",
    "\n",
    "    model.compile(optimizer='adam', loss='binary_crossentropy', metrics=['accuracy'])\n",
    "\n",
    "    early_stopping = EarlyStopping(monitor='val_loss', patience=3, restore_best_weights=True)\n",
    "\n",
    "    history = model.fit(\n",
    "        X_train,\n",
    "        y_train,\n",
    "        epochs=20,\n",
    "        batch_size=32,\n",
    "        validation_split=0.2,\n",
    "        callbacks=[early_stopping],\n",
    "        verbose=0\n",
    "    )\n",
    "\n",
    "    loss, accuracy = model.evaluate(X_test, y_test, verbose=0)\n",
    "    regularization_results.append((config[\"name\"], accuracy))\n",
    "\n",
    "regularization_results_df = pd.DataFrame(regularization_results, columns=[\"Model\", \"Test Accuracy\"])\n",
    "print(regularization_results_df)"
   ]
  }
 ],
 "metadata": {
  "kernelspec": {
   "display_name": "Python 3 (ipykernel)",
   "language": "python",
   "name": "python3"
  },
  "language_info": {
   "codemirror_mode": {
    "name": "ipython",
    "version": 3
   },
   "file_extension": ".py",
   "mimetype": "text/x-python",
   "name": "python",
   "nbconvert_exporter": "python",
   "pygments_lexer": "ipython3",
   "version": "3.12.4"
  }
 },
 "nbformat": 4,
 "nbformat_minor": 5
}

{
  "cells": [
    {
      "cell_type": "code",
      "execution_count": 1,
      "id": "65f88997",
      "metadata": {
        "id": "65f88997"
      },
      "outputs": [],
      "source": [
        "import numpy as np\n",
        "import matplotlib.pyplot as plt\n",
        "import pandas as pd\n",
        "import seaborn as sns\n",
        "import os"
      ]
    },
    {
      "cell_type": "code",
      "execution_count": 3,
      "id": "cb191fc1",
      "metadata": {
        "id": "cb191fc1"
      },
      "outputs": [],
      "source": [
        "reviews_df = pd.read_csv('fake_reviews_dataset.csv')"
      ]
    },
    {
      "cell_type": "markdown",
      "id": "3df381a5",
      "metadata": {
        "id": "3df381a5"
      },
      "source": [
        "# Building a Neural Network"
      ]
    },
    {
      "cell_type": "code",
      "execution_count": 13,
      "id": "ee61a58d",
      "metadata": {
        "colab": {
          "base_uri": "https://localhost:8080/"
        },
        "id": "ee61a58d",
        "outputId": "3519c894-08de-4cb1-a1d0-2f469cc72d5d"
      },
      "outputs": [
        {
          "output_type": "stream",
          "name": "stdout",
          "text": [
            "Epoch 1/20\n"
          ]
        },
        {
          "output_type": "stream",
          "name": "stderr",
          "text": [
            "/usr/local/lib/python3.11/dist-packages/keras/src/layers/core/embedding.py:90: UserWarning: Argument `input_length` is deprecated. Just remove it.\n",
            "  warnings.warn(\n"
          ]
        },
        {
          "output_type": "stream",
          "name": "stdout",
          "text": [
            "\u001b[1m760/760\u001b[0m \u001b[32m━━━━━━━━━━━━━━━━━━━━\u001b[0m\u001b[37m\u001b[0m \u001b[1m105s\u001b[0m 132ms/step - accuracy: 0.5772 - loss: 0.6729 - val_accuracy: 0.7336 - val_loss: 0.5706\n",
            "Epoch 2/20\n",
            "\u001b[1m760/760\u001b[0m \u001b[32m━━━━━━━━━━━━━━━━━━━━\u001b[0m\u001b[37m\u001b[0m \u001b[1m142s\u001b[0m 131ms/step - accuracy: 0.6782 - loss: 0.6048 - val_accuracy: 0.8655 - val_loss: 0.3393\n",
            "Epoch 3/20\n",
            "\u001b[1m760/760\u001b[0m \u001b[32m━━━━━━━━━━━━━━━━━━━━\u001b[0m\u001b[37m\u001b[0m \u001b[1m98s\u001b[0m 129ms/step - accuracy: 0.8674 - loss: 0.3359 - val_accuracy: 0.9295 - val_loss: 0.1767\n",
            "Epoch 4/20\n",
            "\u001b[1m760/760\u001b[0m \u001b[32m━━━━━━━━━━━━━━━━━━━━\u001b[0m\u001b[37m\u001b[0m \u001b[1m142s\u001b[0m 130ms/step - accuracy: 0.9461 - loss: 0.1484 - val_accuracy: 0.9409 - val_loss: 0.1529\n",
            "Epoch 5/20\n",
            "\u001b[1m760/760\u001b[0m \u001b[32m━━━━━━━━━━━━━━━━━━━━\u001b[0m\u001b[37m\u001b[0m \u001b[1m100s\u001b[0m 131ms/step - accuracy: 0.9668 - loss: 0.0926 - val_accuracy: 0.9394 - val_loss: 0.1541\n",
            "Epoch 6/20\n",
            "\u001b[1m760/760\u001b[0m \u001b[32m━━━━━━━━━━━━━━━━━━━━\u001b[0m\u001b[37m\u001b[0m \u001b[1m142s\u001b[0m 131ms/step - accuracy: 0.9791 - loss: 0.0633 - val_accuracy: 0.9373 - val_loss: 0.1738\n",
            "Epoch 7/20\n",
            "\u001b[1m760/760\u001b[0m \u001b[32m━━━━━━━━━━━━━━━━━━━━\u001b[0m\u001b[37m\u001b[0m \u001b[1m138s\u001b[0m 125ms/step - accuracy: 0.9850 - loss: 0.0457 - val_accuracy: 0.9377 - val_loss: 0.2070\n"
          ]
        }
      ],
      "source": [
        "from tensorflow.keras.preprocessing.text import Tokenizer\n",
        "from tensorflow.keras.preprocessing.sequence import pad_sequences\n",
        "from tensorflow.keras.models import Sequential\n",
        "from tensorflow.keras.layers import Embedding, LSTM, Dense, Dropout\n",
        "from sklearn.model_selection import train_test_split\n",
        "from sklearn.preprocessing import LabelEncoder\n",
        "from tensorflow.keras.callbacks import EarlyStopping\n",
        "\n",
        "# Preprocessing the text data\n",
        "texts = reviews_df['text'].values\n",
        "labels = reviews_df['label'].values\n",
        "\n",
        "# Encode labels\n",
        "label_encoder = LabelEncoder()\n",
        "labels = label_encoder.fit_transform(labels)\n",
        "\n",
        "# Tokenize the text\n",
        "tokenizer = Tokenizer(num_words=10000, oov_token=\"<OOV>\")\n",
        "tokenizer.fit_on_texts(texts)\n",
        "sequences = tokenizer.texts_to_sequences(texts)\n",
        "padded_sequences = pad_sequences(sequences, maxlen=100, padding='post', truncating='post')\n",
        "\n",
        "# Split the data into training and testing sets\n",
        "X_train, X_test, y_train, y_test = train_test_split(padded_sequences, labels, test_size=0.2, random_state=42)\n",
        "\n",
        "#Split into validation and train\n",
        "X_train, X_val, y_train, y_val = train_test_split(X_train, y_train, test_size=0.25, random_state=42)\n",
        "\n",
        "early_stopping = EarlyStopping(\n",
        "    monitor='val_loss',  # Monitor validation loss\n",
        "    patience=3,          # Number of epochs with no improvement before stopping\n",
        "    restore_best_weights=True  # Restore the weights of the best epoch\n",
        ")\n",
        "\n",
        "# Build the LSTM model\n",
        "model = Sequential([\n",
        "    Embedding(input_dim=10000, output_dim=64, input_length=100),\n",
        "    LSTM(64, return_sequences=True),\n",
        "    Dropout(0.2),\n",
        "    LSTM(32),\n",
        "    Dropout(0.2),\n",
        "    Dense(32, activation='relu'),\n",
        "    Dense(1, activation='sigmoid')\n",
        "])\n",
        "\n",
        "# Compile the model\n",
        "model.compile(optimizer='adam', loss='binary_crossentropy', metrics=['accuracy'])\n",
        "\n",
        "# Train the model\n",
        "history = model.fit(X_train, y_train, epochs=20, batch_size=32, validation_data=(X_val, y_val),callbacks = [early_stopping])"
      ]
    },
    {
      "cell_type": "code",
      "execution_count": 14,
      "id": "a6f4334f",
      "metadata": {
        "colab": {
          "base_uri": "https://localhost:8080/"
        },
        "id": "a6f4334f",
        "outputId": "be1bd37a-3eff-4695-a3f9-df0fabdcbcdf"
      },
      "outputs": [
        {
          "output_type": "stream",
          "name": "stdout",
          "text": [
            "\u001b[1m254/254\u001b[0m \u001b[32m━━━━━━━━━━━━━━━━━━━━\u001b[0m\u001b[37m\u001b[0m \u001b[1m8s\u001b[0m 30ms/step\n"
          ]
        }
      ],
      "source": [
        "#make predictions on test set\n",
        "y_pred = model.predict(X_test)\n",
        "y_pred = (y_pred > 0.5).astype(int)"
      ]
    },
    {
      "cell_type": "code",
      "execution_count": 15,
      "id": "ba2db7a6",
      "metadata": {
        "colab": {
          "base_uri": "https://localhost:8080/"
        },
        "id": "ba2db7a6",
        "outputId": "3f3ea463-ab74-4ca0-ad3c-3d40c584cd99"
      },
      "outputs": [
        {
          "output_type": "stream",
          "name": "stdout",
          "text": [
            "              precision    recall  f1-score   support\n",
            "\n",
            "           0       0.92      0.96      0.94      4031\n",
            "           1       0.96      0.91      0.94      4075\n",
            "\n",
            "    accuracy                           0.94      8106\n",
            "   macro avg       0.94      0.94      0.94      8106\n",
            "weighted avg       0.94      0.94      0.94      8106\n",
            "\n",
            "[[3883  148]\n",
            " [ 347 3728]]\n"
          ]
        }
      ],
      "source": [
        "from sklearn.metrics import classification_report, confusion_matrix\n",
        "# Print classification report\n",
        "print(classification_report(y_test, y_pred))\n",
        "# Print confusion matrix\n",
        "print(confusion_matrix(y_test, y_pred))"
      ]
    },
    {
      "cell_type": "code",
      "source": [
        "y_pred_train = model.predict(X_train)\n",
        "y_pred_train = (y_pred_train > 0.5).astype(int)\n",
        "\n",
        "print(classification_report(y_train, y_pred_train))\n",
        "print(confusion_matrix(y_train, y_pred_train))"
      ],
      "metadata": {
        "colab": {
          "base_uri": "https://localhost:8080/"
        },
        "id": "zGpAKjxfLwA2",
        "outputId": "7ab1821c-a9bd-49ac-b57c-800f220dfbb1"
      },
      "id": "zGpAKjxfLwA2",
      "execution_count": 16,
      "outputs": [
        {
          "output_type": "stream",
          "name": "stdout",
          "text": [
            "\u001b[1m760/760\u001b[0m \u001b[32m━━━━━━━━━━━━━━━━━━━━\u001b[0m\u001b[37m\u001b[0m \u001b[1m21s\u001b[0m 27ms/step\n",
            "              precision    recall  f1-score   support\n",
            "\n",
            "           0       0.95      0.98      0.97     12125\n",
            "           1       0.98      0.95      0.97     12190\n",
            "\n",
            "    accuracy                           0.97     24315\n",
            "   macro avg       0.97      0.97      0.97     24315\n",
            "weighted avg       0.97      0.97      0.97     24315\n",
            "\n",
            "[[11909   216]\n",
            " [  587 11603]]\n"
          ]
        }
      ]
    },
    {
      "cell_type": "code",
      "source": [
        "#Plot train vs validation loss\n",
        "plt.plot(history.history['loss'])\n",
        "plt.plot(history.history['val_loss'])\n",
        "plt.title('Model loss')\n",
        "plt.ylabel('Loss')\n",
        "plt.xlabel('Epoch')\n",
        "plt.legend(['Train', 'Validation'], loc='upper left')"
      ],
      "metadata": {
        "colab": {
          "base_uri": "https://localhost:8080/",
          "height": 489
        },
        "id": "TR3qD6NNMjfG",
        "outputId": "834615b0-5976-4a0b-d0c6-d5620cc1e20d"
      },
      "id": "TR3qD6NNMjfG",
      "execution_count": 17,
      "outputs": [
        {
          "output_type": "execute_result",
          "data": {
            "text/plain": [
              "<matplotlib.legend.Legend at 0x7af3d7f8b150>"
            ]
          },
          "metadata": {},
          "execution_count": 17
        },
        {
          "output_type": "display_data",
          "data": {
            "text/plain": [
              "<Figure size 640x480 with 1 Axes>"
            ],
            "image/png": "[encoded data removed]"
          },
          "metadata": {}
        }
      ]
    }
  ],
  "metadata": {
    "kernelspec": {
      "display_name": "base",
      "language": "python",
      "name": "python3"
    },
    "language_info": {
      "codemirror_mode": {
        "name": "ipython",
        "version": 3
      },
      "file_extension": ".py",
      "mimetype": "text/x-python",
      "name": "python",
      "nbconvert_exporter": "python",
      "pygments_lexer": "ipython3",
      "version": "3.12.4"
    },
    "colab": {
      "provenance": []
    }
  },
  "nbformat": 4,
  "nbformat_minor": 5
}

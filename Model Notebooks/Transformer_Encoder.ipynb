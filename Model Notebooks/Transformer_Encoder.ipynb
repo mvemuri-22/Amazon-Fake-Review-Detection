{
 "cells": [
  {
   "cell_type": "code",
   "execution_count": 309,
   "id": "11e24bfd-64d0-49d6-b99d-d0152646078e",
   "metadata": {},
   "outputs": [],
   "source": [
    "import numpy as np\n",
    "import pandas as pd\n",
    "import keras\n",
    "import kagglehub\n",
    "import os\n",
    "import tensorflow as tf\n",
    "from preprocessing import preprocess_and_split_data\n",
    "from nltk.corpus import stopwords\n",
    "from nltk.stem import PorterStemmer\n",
    "from sklearn.model_selection import train_test_split\n",
    "from tensorflow.keras.preprocessing.text import Tokenizer\n",
    "from tensorflow.keras.preprocessing.sequence import pad_sequences\n",
    "from tensorflow.keras.models import Sequential\n",
    "from tensorflow.keras.layers import Layer, Input, Embedding, Dense, Dropout, Flatten\n",
    "from tensorflow.keras.optimizers import Adam\n",
    "from tensorflow.keras.callbacks import EarlyStopping\n",
    "from keras import ops\n",
    "from keras_hub.layers import TransformerEncoder, PositionEmbedding\n",
    "import matplotlib.pyplot as plt\n",
    "from sklearn.metrics import roc_curve, confusion_matrix, f1_score, accuracy_score"
   ]
  },
  {
   "cell_type": "code",
   "execution_count": 15,
   "id": "c3204f0c-c5c2-481c-b6b8-5496191ee05e",
   "metadata": {},
   "outputs": [
    {
     "name": "stdout",
     "output_type": "stream",
     "text": [
      "Path to dataset files: /Users/benbrown/.cache/kagglehub/datasets/thearijitdas/fake-reviews-dataset/versions/4\n"
     ]
    },
    {
     "data": {
      "text/html": [
       "<div>\n",
       "<style scoped>\n",
       "    .dataframe tbody tr th:only-of-type {\n",
       "        vertical-align: middle;\n",
       "    }\n",
       "\n",
       "    .dataframe tbody tr th {\n",
       "        vertical-align: top;\n",
       "    }\n",
       "\n",
       "    .dataframe thead th {\n",
       "        text-align: right;\n",
       "    }\n",
       "</style>\n",
       "<table border=\"1\" class=\"dataframe\">\n",
       "  <thead>\n",
       "    <tr style=\"text-align: right;\">\n",
       "      <th></th>\n",
       "      <th>category</th>\n",
       "      <th>rating</th>\n",
       "      <th>text</th>\n",
       "      <th>label</th>\n",
       "    </tr>\n",
       "  </thead>\n",
       "  <tbody>\n",
       "    <tr>\n",
       "      <th>0</th>\n",
       "      <td>Home_and_Kitchen</td>\n",
       "      <td>5.0</td>\n",
       "      <td>Love this!  Well made, sturdy, and very comfor...</td>\n",
       "      <td>1</td>\n",
       "    </tr>\n",
       "    <tr>\n",
       "      <th>1</th>\n",
       "      <td>Home_and_Kitchen</td>\n",
       "      <td>5.0</td>\n",
       "      <td>love it, a great upgrade from the original.  I...</td>\n",
       "      <td>1</td>\n",
       "    </tr>\n",
       "    <tr>\n",
       "      <th>2</th>\n",
       "      <td>Home_and_Kitchen</td>\n",
       "      <td>5.0</td>\n",
       "      <td>This pillow saved my back. I love the look and...</td>\n",
       "      <td>1</td>\n",
       "    </tr>\n",
       "    <tr>\n",
       "      <th>3</th>\n",
       "      <td>Home_and_Kitchen</td>\n",
       "      <td>1.0</td>\n",
       "      <td>Missing information on how to use it, but it i...</td>\n",
       "      <td>1</td>\n",
       "    </tr>\n",
       "    <tr>\n",
       "      <th>4</th>\n",
       "      <td>Home_and_Kitchen</td>\n",
       "      <td>5.0</td>\n",
       "      <td>Very nice set. Good quality. We have had the s...</td>\n",
       "      <td>1</td>\n",
       "    </tr>\n",
       "  </tbody>\n",
       "</table>\n",
       "</div>"
      ],
      "text/plain": [
       "           category  rating  \\\n",
       "0  Home_and_Kitchen     5.0   \n",
       "1  Home_and_Kitchen     5.0   \n",
       "2  Home_and_Kitchen     5.0   \n",
       "3  Home_and_Kitchen     1.0   \n",
       "4  Home_and_Kitchen     5.0   \n",
       "\n",
       "                                                text  label  \n",
       "0  Love this!  Well made, sturdy, and very comfor...      1  \n",
       "1  love it, a great upgrade from the original.  I...      1  \n",
       "2  This pillow saved my back. I love the look and...      1  \n",
       "3  Missing information on how to use it, but it i...      1  \n",
       "4  Very nice set. Good quality. We have had the s...      1  "
      ]
     },
     "execution_count": 15,
     "metadata": {},
     "output_type": "execute_result"
    }
   ],
   "source": [
    "# Load data\n",
    "# https://www.kaggle.com/datasets/thearijitdas/fake-reviews-dataset\n",
    "path = kagglehub.dataset_download(\"thearijitdas/fake-reviews-dataset\")\n",
    "\n",
    "print(\"Path to dataset files:\", path)\n",
    "\n",
    "df = pd.read_csv(os.path.join(path, 'fake_reviews_dataset.csv'))\n",
    "df.head(5)"
   ]
  },
  {
   "cell_type": "code",
   "execution_count": 31,
   "id": "53918b4f-7c9a-499c-9828-82c76c842a8a",
   "metadata": {},
   "outputs": [
    {
     "name": "stderr",
     "output_type": "stream",
     "text": [
      "[nltk_data] Downloading package stopwords to\n",
      "[nltk_data]     /Users/benbrown/nltk_data...\n",
      "[nltk_data]   Unzipping corpora/stopwords.zip.\n"
     ]
    },
    {
     "data": {
      "text/plain": [
       "True"
      ]
     },
     "execution_count": 31,
     "metadata": {},
     "output_type": "execute_result"
    }
   ],
   "source": [
    "import nltk\n",
    "nltk.download('stopwords')"
   ]
  },
  {
   "cell_type": "code",
   "execution_count": 476,
   "id": "459d8c2e-be94-4502-b400-6b04b9a7242e",
   "metadata": {},
   "outputs": [],
   "source": [
    "def preprocess_and_split_data(df):\n",
    "    # Load stop words and initialize stemmer\n",
    "    stop_words = set(stopwords.words('english'))\n",
    "    stemmer = PorterStemmer()\n",
    "\n",
    "    # Preprocessing function: remove stop words and apply stemming\n",
    "    def preprocess_text(text):\n",
    "        words = text.split()\n",
    "        filtered_words = [stemmer.stem(word) for word in words if word.lower() not in stop_words]\n",
    "        return ' '.join(filtered_words)\n",
    "\n",
    "    # Split the data into training and testing sets (80% train, 20% test)\n",
    "    X = df['text']  # Features (text data)\n",
    "    y = df['label']  # Labels\n",
    "    X_train, X_test, y_train, y_test = train_test_split(X, y, test_size=0.2, random_state=42)\n",
    "\n",
    "    # Apply preprocessing to the training and testing sets separately\n",
    "    X_train = X_train.apply(preprocess_text)\n",
    "    X_test = X_test.apply(preprocess_text)\n",
    "\n",
    "    # Tokenize and pad sequences\n",
    "    max_words = 10000  # Hardcoded maximum number of words\n",
    "    max_len = 100      # Hardcoded maximum sequence length\n",
    "    tokenizer = Tokenizer(num_words=max_words)\n",
    "    tokenizer.fit_on_texts(X_train)\n",
    "\n",
    "    X_train_seq = tokenizer.texts_to_sequences(X_train)\n",
    "    X_test_seq = tokenizer.texts_to_sequences(X_test)\n",
    "\n",
    "    X_train_pad = pad_sequences(X_train_seq, maxlen=max_len, padding='post')\n",
    "    X_test_pad = pad_sequences(X_test_seq, maxlen=max_len, padding='post')\n",
    "\n",
    "    # Return the processed datasets and tokenizer\n",
    "    return X_train_pad, X_test_pad, y_train, y_test, tokenizer"
   ]
  },
  {
   "cell_type": "code",
   "execution_count": 478,
   "id": "1ecb1c29-2ab9-42d3-a42a-49b893d90ff1",
   "metadata": {},
   "outputs": [
    {
     "name": "stdout",
     "output_type": "stream",
     "text": [
      "Train shape: (32420, 100) (32420,)\n",
      "Test shape: (8106, 100) (8106,)\n"
     ]
    }
   ],
   "source": [
    "# Example usage for preprocessing\n",
    "X_train, X_test, y_train, y_test, tokenizer = preprocess_and_split_data(df)\n",
    "\n",
    "print(\"Train shape:\", X_train.shape, y_train.shape)\n",
    "print(\"Test shape:\", X_test.shape, y_test.shape)"
   ]
  },
  {
   "cell_type": "code",
   "execution_count": 480,
   "id": "02b798d0-0b1f-4d8c-908a-229ef3a867a4",
   "metadata": {},
   "outputs": [
    {
     "data": {
      "text/plain": [
       "36411"
      ]
     },
     "execution_count": 480,
     "metadata": {},
     "output_type": "execute_result"
    }
   ],
   "source": [
    "num_words = len(tokenizer.word_index) + 1\n",
    "num_words"
   ]
  },
  {
   "cell_type": "markdown",
   "id": "35d53ee7-bcff-4bd9-b034-c4d8a7af0ac3",
   "metadata": {},
   "source": [
    "I use the positional embedding layer from the English to Portuguese translator model notebook."
   ]
  },
  {
   "cell_type": "code",
   "execution_count": 482,
   "id": "d4405a18-f30e-485a-a48c-9204df715508",
   "metadata": {},
   "outputs": [],
   "source": [
    "# Define the positional encoding layer\n",
    "def positional_encoding(length, depth):\n",
    "  depth = depth/2\n",
    "\n",
    "  positions = np.arange(length)[:, np.newaxis]     # (seq, 1)\n",
    "  depths = np.arange(depth)[np.newaxis, :]/depth   # (1, depth)\n",
    "\n",
    "  angle_rates = 1 / (10000**depths)         # (1, depth)\n",
    "  angle_rads = positions * angle_rates      # (pos, depth)\n",
    "\n",
    "  pos_encoding = np.concatenate(\n",
    "      [np.sin(angle_rads), np.cos(angle_rads)],\n",
    "      axis=-1)\n",
    "\n",
    "  return tf.cast(pos_encoding, dtype=tf.float32)"
   ]
  },
  {
   "cell_type": "code",
   "execution_count": 484,
   "id": "6edce6ba-fbbc-483e-b570-d20d8a518654",
   "metadata": {},
   "outputs": [],
   "source": [
    "# Define positional embedding layer\n",
    "class PositionalEmbedding(tf.keras.layers.Layer):\n",
    "  def __init__(self, vocab_size, d_model):\n",
    "    super().__init__()\n",
    "    self.d_model = d_model\n",
    "    self.embedding = tf.keras.layers.Embedding(vocab_size, d_model, mask_zero=True)\n",
    "    self.pos_encoding = positional_encoding(length=2048, depth=d_model)\n",
    "\n",
    "  def compute_mask(self, *args, **kwargs):\n",
    "    return self.embedding.compute_mask(*args, **kwargs)\n",
    "\n",
    "  def call(self, x):\n",
    "    length = tf.shape(x)[1]\n",
    "    x = self.embedding(x)\n",
    "    # This factor sets the relative scale of the embedding and positonal_encoding.\n",
    "    x *= tf.math.sqrt(tf.cast(self.d_model, tf.float32))\n",
    "    x = x + self.pos_encoding[tf.newaxis, :length, :]\n",
    "    return x"
   ]
  },
  {
   "cell_type": "code",
   "execution_count": 486,
   "id": "8838ea63-b0b7-4cff-aaeb-a58940cf47ea",
   "metadata": {},
   "outputs": [
    {
     "name": "stdout",
     "output_type": "stream",
     "text": [
      "(100, 1, 512)\n",
      "(100, 1)\n"
     ]
    }
   ],
   "source": [
    "word_count = len(tokenizer.word_index) + 1\n",
    "test_embed = PositionalEmbedding(vocab_size=word_count, d_model=512)\n",
    "embed_x0 = test_embed(X_train[0].reshape(-1,1))\n",
    "print(embed_x0.shape)\n",
    "print(embed_x0._keras_mask.shape)"
   ]
  },
  {
   "cell_type": "code",
   "execution_count": 488,
   "id": "7358bd79-10b3-4b40-8027-51306d0b79eb",
   "metadata": {},
   "outputs": [],
   "source": [
    "model = Sequential([\n",
    "    PositionalEmbedding(vocab_size=word_count, d_model=100),  # Match tokenizer and padding\n",
    "    TransformerEncoder(intermediate_dim=128, num_heads=8, dropout=0.1),\n",
    "    Flatten(),\n",
    "    Dropout(0.1),\n",
    "    Dense(1, activation='sigmoid')  # For binary classification\n",
    "])"
   ]
  },
  {
   "cell_type": "code",
   "execution_count": 490,
   "id": "7522eac2-7643-499c-a640-b0c8a17d2697",
   "metadata": {},
   "outputs": [
    {
     "name": "stdout",
     "output_type": "stream",
     "text": [
      "Epoch 1/5\n"
     ]
    },
    {
     "name": "stderr",
     "output_type": "stream",
     "text": [
      "/opt/anaconda3/lib/python3.12/site-packages/keras/src/layers/layer.py:940: UserWarning: Layer 'flatten_25' (of type Flatten) was passed an input with a mask attached to it. However, this layer does not support masking and will therefore destroy the mask information. Downstream layers will not see the mask.\n",
      "  warnings.warn(\n"
     ]
    },
    {
     "name": "stdout",
     "output_type": "stream",
     "text": [
      "\u001b[1m1014/1014\u001b[0m \u001b[32m━━━━━━━━━━━━━━━━━━━━\u001b[0m\u001b[37m\u001b[0m \u001b[1m36s\u001b[0m 35ms/step - accuracy: 0.7435 - loss: 0.5284 - val_accuracy: 0.8975 - val_loss: 0.2697\n",
      "Epoch 2/5\n",
      "\u001b[1m1014/1014\u001b[0m \u001b[32m━━━━━━━━━━━━━━━━━━━━\u001b[0m\u001b[37m\u001b[0m \u001b[1m36s\u001b[0m 35ms/step - accuracy: 0.9466 - loss: 0.1313 - val_accuracy: 0.9039 - val_loss: 0.2403\n",
      "Epoch 3/5\n",
      "\u001b[1m1014/1014\u001b[0m \u001b[32m━━━━━━━━━━━━━━━━━━━━\u001b[0m\u001b[37m\u001b[0m \u001b[1m38s\u001b[0m 37ms/step - accuracy: 0.9781 - loss: 0.0618 - val_accuracy: 0.8971 - val_loss: 0.3270\n",
      "Epoch 4/5\n",
      "\u001b[1m1014/1014\u001b[0m \u001b[32m━━━━━━━━━━━━━━━━━━━━\u001b[0m\u001b[37m\u001b[0m \u001b[1m37s\u001b[0m 37ms/step - accuracy: 0.9884 - loss: 0.0355 - val_accuracy: 0.8959 - val_loss: 0.4006\n",
      "Epoch 5/5\n",
      "\u001b[1m1014/1014\u001b[0m \u001b[32m━━━━━━━━━━━━━━━━━━━━\u001b[0m\u001b[37m\u001b[0m \u001b[1m36s\u001b[0m 36ms/step - accuracy: 0.9906 - loss: 0.0253 - val_accuracy: 0.8955 - val_loss: 0.4299\n"
     ]
    }
   ],
   "source": [
    "model.compile(optimizer=\"adam\", loss=\"binary_crossentropy\", metrics=[\"accuracy\"])\n",
    "history = model.fit(\n",
    "    X_train, y_train, batch_size=32, epochs=5, validation_data=(X_test, y_test),\n",
    "    callbacks = [EarlyStopping(monitor='val_loss', patience=3, restore_best_weights=True)]\n",
    ")"
   ]
  },
  {
   "cell_type": "code",
   "execution_count": 492,
   "id": "bd7167d3-fdab-4c42-a08d-0f73cae1eb7d",
   "metadata": {},
   "outputs": [
    {
     "name": "stdout",
     "output_type": "stream",
     "text": [
      "\u001b[1m254/254\u001b[0m \u001b[32m━━━━━━━━━━━━━━━━━━━━\u001b[0m\u001b[37m\u001b[0m \u001b[1m3s\u001b[0m 12ms/step - accuracy: 0.9012 - loss: 0.2445\n"
     ]
    },
    {
     "data": {
      "text/plain": [
       "[0.2402818351984024, 0.9038983583450317]"
      ]
     },
     "execution_count": 492,
     "metadata": {},
     "output_type": "execute_result"
    }
   ],
   "source": [
    "model.evaluate(X_test, y_test)"
   ]
  },
  {
   "cell_type": "code",
   "execution_count": 494,
   "id": "310ed0dc-e082-430c-8957-87e7b191c8f8",
   "metadata": {},
   "outputs": [
    {
     "name": "stdout",
     "output_type": "stream",
     "text": [
      "\u001b[1m  9/254\u001b[0m \u001b[37m━━━━━━━━━━━━━━━━━━━━\u001b[0m \u001b[1m3s\u001b[0m 15ms/step"
     ]
    },
    {
     "name": "stderr",
     "output_type": "stream",
     "text": [
      "/opt/anaconda3/lib/python3.12/site-packages/keras/src/layers/layer.py:940: UserWarning: Layer 'flatten_25' (of type Flatten) was passed an input with a mask attached to it. However, this layer does not support masking and will therefore destroy the mask information. Downstream layers will not see the mask.\n",
      "  warnings.warn(\n"
     ]
    },
    {
     "name": "stdout",
     "output_type": "stream",
     "text": [
      "\u001b[1m254/254\u001b[0m \u001b[32m━━━━━━━━━━━━━━━━━━━━\u001b[0m\u001b[37m\u001b[0m \u001b[1m3s\u001b[0m 11ms/step\n"
     ]
    },
    {
     "data": {
      "image/png": "[encoded data removed]",
      "text/plain": [
       "<Figure size 640x480 with 1 Axes>"
      ]
     },
     "metadata": {},
     "output_type": "display_data"
    }
   ],
   "source": [
    "# Assuming 'model' is your trained Keras model and 'X_test', 'y_test' are your test data\n",
    "y_pred_proba = model.predict(X_test)\n",
    "\n",
    "# For binary classification, if the output layer uses sigmoid activation:\n",
    "fpr, tpr, thresholds = roc_curve(y_test, y_pred_proba)\n",
    "\n",
    "# For multi-class classification, consider one-vs-rest approach or use roc_auc_score for AUC only\n",
    "# fpr, tpr, thresholds = roc_curve(y_test.ravel(), y_pred_proba.ravel()) # Example for binary case\n",
    "\n",
    "# Plotting the ROC curve\n",
    "plt.plot(fpr, tpr, label='ROC curve')\n",
    "plt.plot([0, 1], [0, 1], 'k--', label='Random guess')\n",
    "plt.xlabel('False Positive Rate')\n",
    "plt.ylabel('True Positive Rate')\n",
    "plt.title('ROC Curve')\n",
    "plt.legend()\n",
    "plt.show()"
   ]
  },
  {
   "cell_type": "code",
   "execution_count": 348,
   "id": "e95c5933-dd3b-477b-9535-e9648ea7090b",
   "metadata": {},
   "outputs": [
    {
     "name": "stdout",
     "output_type": "stream",
     "text": [
      "Best threshold: 0.86\n",
      "Best F1 score: 0.9087296659629952\n",
      "Accuracy: 0.9093264248704663\n"
     ]
    }
   ],
   "source": [
    "# Compute threshold based on F1 score\n",
    "y_pred = 0\n",
    "best_thresh = 0\n",
    "best_f1 = 0\n",
    "for i in np.arange(100)/100:\n",
    "    y_pred_int = (y_pred_proba > i)*1.0\n",
    "    f1 = f1_score(y_test, y_pred_int)\n",
    "    #print(f'Threshold {i}: {f1}')\n",
    "    if f1 > best_f1:\n",
    "        best_f1 = f1\n",
    "        best_thresh = i\n",
    "        y_pred = y_pred_int\n",
    "print(f'Best threshold: {best_thresh}')\n",
    "print(f'Best F1 score: {best_f1}')\n",
    "print(f'Accuracy: {accuracy_score(y_test, y_pred)}')"
   ]
  },
  {
   "cell_type": "markdown",
   "id": "a1525517-d3f2-4083-8385-e01f05681b7d",
   "metadata": {},
   "source": [
    "### Add more encoder layers\n",
    "\n",
    "Adding dropout makes the test accuracy slightly worse so it is likely the model is underfitting."
   ]
  },
  {
   "cell_type": "code",
   "execution_count": 351,
   "id": "a18784c1-81fb-4f77-923b-4c4f97c2abf4",
   "metadata": {},
   "outputs": [],
   "source": [
    "model2 = Sequential([\n",
    "    PositionalEmbedding(vocab_size=word_count, d_model=100),  # Match tokenizer and padding\n",
    "    TransformerEncoder(intermediate_dim=128, num_heads=8, dropout=0.1),\n",
    "    TransformerEncoder(intermediate_dim=128, num_heads=8, dropout=0.1),\n",
    "    TransformerEncoder(intermediate_dim=128, num_heads=8, dropout=0.1),\n",
    "    TransformerEncoder(intermediate_dim=128, num_heads=8, dropout=0.1),\n",
    "    Flatten(),\n",
    "    Dropout(0.1),\n",
    "    Dense(1, activation='sigmoid')  # For binary classification\n",
    "])"
   ]
  },
  {
   "cell_type": "code",
   "execution_count": 353,
   "id": "ef6d2e60-f1e6-4af1-bd24-43c263d8757d",
   "metadata": {},
   "outputs": [
    {
     "name": "stdout",
     "output_type": "stream",
     "text": [
      "Epoch 1/5\n"
     ]
    },
    {
     "name": "stderr",
     "output_type": "stream",
     "text": [
      "/opt/anaconda3/lib/python3.12/site-packages/keras/src/layers/layer.py:940: UserWarning: Layer 'flatten_20' (of type Flatten) was passed an input with a mask attached to it. However, this layer does not support masking and will therefore destroy the mask information. Downstream layers will not see the mask.\n",
      "  warnings.warn(\n"
     ]
    },
    {
     "name": "stdout",
     "output_type": "stream",
     "text": [
      "\u001b[1m1014/1014\u001b[0m \u001b[32m━━━━━━━━━━━━━━━━━━━━\u001b[0m\u001b[37m\u001b[0m \u001b[1m123s\u001b[0m 118ms/step - accuracy: 0.7256 - loss: 0.5914 - val_accuracy: 0.8955 - val_loss: 0.2485\n",
      "Epoch 2/5\n",
      "\u001b[1m1014/1014\u001b[0m \u001b[32m━━━━━━━━━━━━━━━━━━━━\u001b[0m\u001b[37m\u001b[0m \u001b[1m120s\u001b[0m 119ms/step - accuracy: 0.9396 - loss: 0.1558 - val_accuracy: 0.9132 - val_loss: 0.2214\n",
      "Epoch 3/5\n",
      "\u001b[1m1014/1014\u001b[0m \u001b[32m━━━━━━━━━━━━━━━━━━━━\u001b[0m\u001b[37m\u001b[0m \u001b[1m121s\u001b[0m 119ms/step - accuracy: 0.9648 - loss: 0.0901 - val_accuracy: 0.8987 - val_loss: 0.2857\n",
      "Epoch 4/5\n",
      "\u001b[1m1014/1014\u001b[0m \u001b[32m━━━━━━━━━━━━━━━━━━━━\u001b[0m\u001b[37m\u001b[0m \u001b[1m119s\u001b[0m 118ms/step - accuracy: 0.9723 - loss: 0.0695 - val_accuracy: 0.9056 - val_loss: 0.3507\n",
      "Epoch 5/5\n",
      "\u001b[1m1014/1014\u001b[0m \u001b[32m━━━━━━━━━━━━━━━━━━━━\u001b[0m\u001b[37m\u001b[0m \u001b[1m119s\u001b[0m 117ms/step - accuracy: 0.9766 - loss: 0.0602 - val_accuracy: 0.9109 - val_loss: 0.3385\n"
     ]
    }
   ],
   "source": [
    "model2.compile(optimizer=\"adam\", loss=\"binary_crossentropy\", metrics=[\"accuracy\"])\n",
    "history2 = model2.fit(\n",
    "    X_train, y_train, batch_size=32, epochs=5, validation_data=(X_test, y_test),\n",
    "    callbacks = [EarlyStopping(monitor='val_loss', patience=3, restore_best_weights=True)]\n",
    ")"
   ]
  },
  {
   "cell_type": "code",
   "execution_count": 355,
   "id": "adb7d47f-d39b-487b-9bc1-d5c2c29529f0",
   "metadata": {},
   "outputs": [
    {
     "name": "stdout",
     "output_type": "stream",
     "text": [
      "\u001b[1m254/254\u001b[0m \u001b[32m━━━━━━━━━━━━━━━━━━━━\u001b[0m\u001b[37m\u001b[0m \u001b[1m10s\u001b[0m 39ms/step - accuracy: 0.9116 - loss: 0.2207\n"
     ]
    },
    {
     "data": {
      "text/plain": [
       "[0.22143472731113434, 0.9131507277488708]"
      ]
     },
     "execution_count": 355,
     "metadata": {},
     "output_type": "execute_result"
    }
   ],
   "source": [
    "model2.evaluate(X_test, y_test)"
   ]
  },
  {
   "cell_type": "code",
   "execution_count": 357,
   "id": "68e4f9d9-0b4e-4fca-a273-8ddda1754b99",
   "metadata": {},
   "outputs": [
    {
     "name": "stdout",
     "output_type": "stream",
     "text": [
      "\u001b[1m  3/254\u001b[0m \u001b[37m━━━━━━━━━━━━━━━━━━━━\u001b[0m \u001b[1m9s\u001b[0m 38ms/step  "
     ]
    },
    {
     "name": "stderr",
     "output_type": "stream",
     "text": [
      "/opt/anaconda3/lib/python3.12/site-packages/keras/src/layers/layer.py:940: UserWarning: Layer 'flatten_20' (of type Flatten) was passed an input with a mask attached to it. However, this layer does not support masking and will therefore destroy the mask information. Downstream layers will not see the mask.\n",
      "  warnings.warn(\n"
     ]
    },
    {
     "name": "stdout",
     "output_type": "stream",
     "text": [
      "\u001b[1m254/254\u001b[0m \u001b[32m━━━━━━━━━━━━━━━━━━━━\u001b[0m\u001b[37m\u001b[0m \u001b[1m10s\u001b[0m 39ms/step\n"
     ]
    },
    {
     "data": {
      "image/png": "[encoded data removed]",
      "text/plain": [
       "<Figure size 640x480 with 1 Axes>"
      ]
     },
     "metadata": {},
     "output_type": "display_data"
    }
   ],
   "source": [
    "# Assuming 'model' is your trained Keras model and 'X_test', 'y_test' are your test data\n",
    "y_pred_proba2 = model2.predict(X_test)\n",
    "\n",
    "# For binary classification, if the output layer uses sigmoid activation:\n",
    "fpr, tpr, thresholds = roc_curve(y_test, y_pred_proba2)\n",
    "\n",
    "# For multi-class classification, consider one-vs-rest approach or use roc_auc_score for AUC only\n",
    "# fpr, tpr, thresholds = roc_curve(y_test.ravel(), y_pred_proba.ravel()) # Example for binary case\n",
    "\n",
    "# Plotting the ROC curve\n",
    "plt.plot(fpr, tpr, label='ROC curve')\n",
    "plt.plot([0, 1], [0, 1], 'k--', label='Random guess')\n",
    "plt.xlabel('False Positive Rate')\n",
    "plt.ylabel('True Positive Rate')\n",
    "plt.title('ROC Curve')\n",
    "plt.legend()\n",
    "plt.show()"
   ]
  },
  {
   "cell_type": "markdown",
   "id": "1754020c-0499-41aa-8688-0c9c092069d1",
   "metadata": {},
   "source": [
    "Increasing the number of layers only slightly improves the model performance. Now I will try using fewer layers but increasing the intermediate dimension of each layer."
   ]
  },
  {
   "cell_type": "code",
   "execution_count": 360,
   "id": "90a50799-d065-430e-8a9f-8a8f6460a9ee",
   "metadata": {},
   "outputs": [],
   "source": [
    "model3 = Sequential([\n",
    "    PositionalEmbedding(vocab_size=word_count, d_model=100),  # Match tokenizer and padding\n",
    "    TransformerEncoder(intermediate_dim=512, num_heads=8, dropout=0.1),\n",
    "    TransformerEncoder(intermediate_dim=512, num_heads=8, dropout=0.1),\n",
    "    Flatten(),\n",
    "    Dropout(0.1),\n",
    "    Dense(1, activation='sigmoid')  # For binary classification\n",
    "])"
   ]
  },
  {
   "cell_type": "code",
   "execution_count": 362,
   "id": "cf0f9c1f-f320-43c4-ad5d-7db5c6e5a10e",
   "metadata": {},
   "outputs": [
    {
     "name": "stdout",
     "output_type": "stream",
     "text": [
      "Epoch 1/5\n"
     ]
    },
    {
     "name": "stderr",
     "output_type": "stream",
     "text": [
      "/opt/anaconda3/lib/python3.12/site-packages/keras/src/layers/layer.py:940: UserWarning: Layer 'flatten_21' (of type Flatten) was passed an input with a mask attached to it. However, this layer does not support masking and will therefore destroy the mask information. Downstream layers will not see the mask.\n",
      "  warnings.warn(\n"
     ]
    },
    {
     "name": "stdout",
     "output_type": "stream",
     "text": [
      "\u001b[1m1014/1014\u001b[0m \u001b[32m━━━━━━━━━━━━━━━━━━━━\u001b[0m\u001b[37m\u001b[0m \u001b[1m77s\u001b[0m 74ms/step - accuracy: 0.7141 - loss: 0.6488 - val_accuracy: 0.9124 - val_loss: 0.2263\n",
      "Epoch 2/5\n",
      "\u001b[1m1014/1014\u001b[0m \u001b[32m━━━━━━━━━━━━━━━━━━━━\u001b[0m\u001b[37m\u001b[0m \u001b[1m75s\u001b[0m 74ms/step - accuracy: 0.9422 - loss: 0.1443 - val_accuracy: 0.8995 - val_loss: 0.2566\n",
      "Epoch 3/5\n",
      "\u001b[1m1014/1014\u001b[0m \u001b[32m━━━━━━━━━━━━━━━━━━━━\u001b[0m\u001b[37m\u001b[0m \u001b[1m76s\u001b[0m 74ms/step - accuracy: 0.9708 - loss: 0.0781 - val_accuracy: 0.9071 - val_loss: 0.2699\n",
      "Epoch 4/5\n",
      "\u001b[1m1014/1014\u001b[0m \u001b[32m━━━━━━━━━━━━━━━━━━━━\u001b[0m\u001b[37m\u001b[0m \u001b[1m76s\u001b[0m 75ms/step - accuracy: 0.9828 - loss: 0.0438 - val_accuracy: 0.8925 - val_loss: 0.4172\n"
     ]
    }
   ],
   "source": [
    "model3.compile(optimizer=\"adam\", loss=\"binary_crossentropy\", metrics=[\"accuracy\"])\n",
    "history3 = model3.fit(\n",
    "    X_train, y_train, batch_size=32, epochs=5, validation_data=(X_test, y_test),\n",
    "    callbacks = [EarlyStopping(monitor='val_loss', patience=3, restore_best_weights=True)]\n",
    ")"
   ]
  },
  {
   "cell_type": "code",
   "execution_count": 364,
   "id": "ebc50066-23e3-47e4-a638-f1b65aefc748",
   "metadata": {},
   "outputs": [
    {
     "name": "stdout",
     "output_type": "stream",
     "text": [
      "\u001b[1m254/254\u001b[0m \u001b[32m━━━━━━━━━━━━━━━━━━━━\u001b[0m\u001b[37m\u001b[0m \u001b[1m6s\u001b[0m 25ms/step - accuracy: 0.9123 - loss: 0.2293\n"
     ]
    },
    {
     "data": {
      "text/plain": [
       "[0.2262546867132187, 0.91241055727005]"
      ]
     },
     "execution_count": 364,
     "metadata": {},
     "output_type": "execute_result"
    }
   ],
   "source": [
    "model3.evaluate(X_test, y_test)"
   ]
  },
  {
   "cell_type": "markdown",
   "id": "dc4670f0-7889-45a4-96b1-174b84036380",
   "metadata": {},
   "source": [
    "It performs nearly identically to the model with 4 layers but takes half as long to train. Now let's try adding more or less dropout to the model."
   ]
  },
  {
   "cell_type": "code",
   "execution_count": 371,
   "id": "8ac90f3d-f423-4dc8-af76-bb2322366f6f",
   "metadata": {},
   "outputs": [],
   "source": [
    "model4 = Sequential([\n",
    "    PositionalEmbedding(vocab_size=word_count, d_model=100),  # Match tokenizer and padding\n",
    "    TransformerEncoder(intermediate_dim=512, num_heads=8, dropout=0.25),\n",
    "    TransformerEncoder(intermediate_dim=512, num_heads=8, dropout=0.25),\n",
    "    Flatten(),\n",
    "    Dropout(0.25),\n",
    "    Dense(1, activation='sigmoid')  # For binary classification\n",
    "])"
   ]
  },
  {
   "cell_type": "code",
   "execution_count": 373,
   "id": "f45574a2-dc92-4da6-88f2-c0bd09aa9dcd",
   "metadata": {},
   "outputs": [
    {
     "name": "stdout",
     "output_type": "stream",
     "text": [
      "Epoch 1/5\n"
     ]
    },
    {
     "name": "stderr",
     "output_type": "stream",
     "text": [
      "/opt/anaconda3/lib/python3.12/site-packages/keras/src/layers/layer.py:940: UserWarning: Layer 'flatten_23' (of type Flatten) was passed an input with a mask attached to it. However, this layer does not support masking and will therefore destroy the mask information. Downstream layers will not see the mask.\n",
      "  warnings.warn(\n"
     ]
    },
    {
     "name": "stdout",
     "output_type": "stream",
     "text": [
      "\u001b[1m1014/1014\u001b[0m \u001b[32m━━━━━━━━━━━━━━━━━━━━\u001b[0m\u001b[37m\u001b[0m \u001b[1m77s\u001b[0m 75ms/step - accuracy: 0.6890 - loss: 0.7369 - val_accuracy: 0.9070 - val_loss: 0.2213\n",
      "Epoch 2/5\n",
      "\u001b[1m1014/1014\u001b[0m \u001b[32m━━━━━━━━━━━━━━━━━━━━\u001b[0m\u001b[37m\u001b[0m \u001b[1m75s\u001b[0m 74ms/step - accuracy: 0.9360 - loss: 0.1578 - val_accuracy: 0.9075 - val_loss: 0.2327\n",
      "Epoch 3/5\n",
      "\u001b[1m1014/1014\u001b[0m \u001b[32m━━━━━━━━━━━━━━━━━━━━\u001b[0m\u001b[37m\u001b[0m \u001b[1m76s\u001b[0m 75ms/step - accuracy: 0.9631 - loss: 0.0969 - val_accuracy: 0.9114 - val_loss: 0.2774\n",
      "Epoch 4/5\n",
      "\u001b[1m1014/1014\u001b[0m \u001b[32m━━━━━━━━━━━━━━━━━━━━\u001b[0m\u001b[37m\u001b[0m \u001b[1m75s\u001b[0m 74ms/step - accuracy: 0.9736 - loss: 0.0686 - val_accuracy: 0.9069 - val_loss: 0.3499\n"
     ]
    }
   ],
   "source": [
    "model4.compile(optimizer=\"adam\", loss=\"binary_crossentropy\", metrics=[\"accuracy\"])\n",
    "history4 = model4.fit(\n",
    "    X_train, y_train, batch_size=32, epochs=5, validation_data=(X_test, y_test),\n",
    "    callbacks = [EarlyStopping(monitor='val_loss', patience=3, restore_best_weights=True)]\n",
    ")"
   ]
  },
  {
   "cell_type": "code",
   "execution_count": 378,
   "id": "225d4ffa-1ffc-417a-9c16-1fb7c5a0302d",
   "metadata": {},
   "outputs": [
    {
     "name": "stdout",
     "output_type": "stream",
     "text": [
      "\u001b[1m254/254\u001b[0m \u001b[32m━━━━━━━━━━━━━━━━━━━━\u001b[0m\u001b[37m\u001b[0m \u001b[1m6s\u001b[0m 25ms/step - accuracy: 0.9052 - loss: 0.2234\n"
     ]
    },
    {
     "data": {
      "text/plain": [
       "[0.22131945192813873, 0.9069824814796448]"
      ]
     },
     "execution_count": 378,
     "metadata": {},
     "output_type": "execute_result"
    }
   ],
   "source": [
    "model4.evaluate(X_test, y_test)"
   ]
  },
  {
   "cell_type": "code",
   "execution_count": 496,
   "id": "c3b2f4c8-6962-4ae3-b4c0-25646b81ce5d",
   "metadata": {},
   "outputs": [],
   "source": [
    "# Largest model with 4 layers and intermediate dim 512\n",
    "model5 = Sequential([\n",
    "    PositionalEmbedding(vocab_size=word_count, d_model=100),  # Match tokenizer and padding\n",
    "    TransformerEncoder(intermediate_dim=512, num_heads=8, dropout=0.1),\n",
    "    TransformerEncoder(intermediate_dim=512, num_heads=8, dropout=0.1),\n",
    "    TransformerEncoder(intermediate_dim=512, num_heads=8, dropout=0.1),\n",
    "    TransformerEncoder(intermediate_dim=512, num_heads=8, dropout=0.1),\n",
    "    Flatten(),\n",
    "    Dropout(0.1),\n",
    "    Dense(1, activation='sigmoid')\n",
    "])"
   ]
  },
  {
   "cell_type": "code",
   "execution_count": 500,
   "id": "1f5de01d-68ad-4cb6-85a5-91263cdc13e7",
   "metadata": {},
   "outputs": [
    {
     "name": "stdout",
     "output_type": "stream",
     "text": [
      "Epoch 1/5\n"
     ]
    },
    {
     "name": "stderr",
     "output_type": "stream",
     "text": [
      "/opt/anaconda3/lib/python3.12/site-packages/keras/src/layers/layer.py:940: UserWarning: Layer 'flatten_26' (of type Flatten) was passed an input with a mask attached to it. However, this layer does not support masking and will therefore destroy the mask information. Downstream layers will not see the mask.\n",
      "  warnings.warn(\n"
     ]
    },
    {
     "name": "stdout",
     "output_type": "stream",
     "text": [
      "\u001b[1m1014/1014\u001b[0m \u001b[32m━━━━━━━━━━━━━━━━━━━━\u001b[0m\u001b[37m\u001b[0m \u001b[1m149s\u001b[0m 143ms/step - accuracy: 0.6938 - loss: 0.5951 - val_accuracy: 0.9076 - val_loss: 0.2301\n",
      "Epoch 2/5\n",
      "\u001b[1m1014/1014\u001b[0m \u001b[32m━━━━━━━━━━━━━━━━━━━━\u001b[0m\u001b[37m\u001b[0m \u001b[1m144s\u001b[0m 142ms/step - accuracy: 0.9285 - loss: 0.1762 - val_accuracy: 0.9099 - val_loss: 0.2355\n",
      "Epoch 3/5\n",
      "\u001b[1m1014/1014\u001b[0m \u001b[32m━━━━━━━━━━━━━━━━━━━━\u001b[0m\u001b[37m\u001b[0m \u001b[1m142s\u001b[0m 140ms/step - accuracy: 0.9521 - loss: 0.1227 - val_accuracy: 0.8870 - val_loss: 0.3116\n",
      "Epoch 4/5\n",
      "\u001b[1m1014/1014\u001b[0m \u001b[32m━━━━━━━━━━━━━━━━━━━━\u001b[0m\u001b[37m\u001b[0m \u001b[1m146s\u001b[0m 144ms/step - accuracy: 0.9631 - loss: 0.0974 - val_accuracy: 0.9022 - val_loss: 0.3128\n"
     ]
    }
   ],
   "source": [
    "model5.compile(optimizer=\"adam\", loss=\"binary_crossentropy\", metrics=[\"accuracy\"])\n",
    "history5 = model5.fit(\n",
    "    X_train, y_train, batch_size=32, epochs=5, validation_data=(X_test, y_test),\n",
    "    callbacks = [EarlyStopping(monitor='val_loss', patience=3, restore_best_weights=True)]\n",
    ")"
   ]
  },
  {
   "cell_type": "code",
   "execution_count": 502,
   "id": "8ec4ffe0-cb3b-4441-9975-f2ce2a10f70e",
   "metadata": {},
   "outputs": [
    {
     "name": "stdout",
     "output_type": "stream",
     "text": [
      "\u001b[1m254/254\u001b[0m \u001b[32m━━━━━━━━━━━━━━━━━━━━\u001b[0m\u001b[37m\u001b[0m \u001b[1m12s\u001b[0m 46ms/step - accuracy: 0.9065 - loss: 0.2289\n"
     ]
    },
    {
     "data": {
      "text/plain": [
       "[0.23007379472255707, 0.9075993299484253]"
      ]
     },
     "execution_count": 502,
     "metadata": {},
     "output_type": "execute_result"
    }
   ],
   "source": [
    "model5.evaluate(X_test, y_test)"
   ]
  },
  {
   "cell_type": "code",
   "execution_count": 470,
   "id": "71355801-1449-4276-aa94-fc1602ac57a3",
   "metadata": {},
   "outputs": [
    {
     "name": "stdout",
     "output_type": "stream",
     "text": [
      "[1.8482011e-05] ['televis report jessica rowan cover san antonio gener bachelor auction friend win date ryder last thing altern captain ryder want particip bachelor auction however two meet might common would expected contemporari sport romanc suitabl new adult adult audiences like ryder seriou hockey fault appreci ryder call one realiz need achiev balanc life valuabl life lesson benefit everyone felt bad jessica auction love friend ryder her obstacl overcom make stori interesting two great chemistri make excel couple seven pages stori fast captiv read finish one sitting enjoy scene begin thought clever way charact get together chase prize fun stori entertain read im look forward casey stori next book six make impact']\n",
      "[2.923547e-05] ['one best cup there daughter love push button own encourag drinking leaking easi transport like much bought another also mani thank custom servic folk thermo buy replac mouth piec defect extend use']\n",
      "[3.8567938e-05] ['work great bright ballast compat even though box say are call compani reach someon immedi confirm need remove bypass ballast problem remov lamp ballast light simple quick easi job ballast mean one less thing fail anoth plu led light get warm like fluoresc did use led light replac fluoresc light cabinet fixtur would get warm also warm cabinets']\n",
      "[4.662439e-05] ['son pretti issu attention list treatment especi natur alway good rather drug nice done also lot inform whether child add around list help peopl get potenti affect children parent inform same went pain henc concern recommend heavili one especi parent concern child outside']\n",
      "[4.6765635e-05] ['2 star fact realli magic lift advertised return fit however routin wear minim champion sport bras use differ way support girls bra fit instructions cup absolut everyth spill sides leav area top cup empty large way explain it also separ well center bra lay chest cloth made look high none issu bras fit 36d mid']\n"
     ]
    }
   ],
   "source": [
    "# Get reviews that are most and least likely to be AI.\n",
    "indices = np.argsort(y_pred_proba2.flatten())\n",
    "for i in indices[0:5]:\n",
    "    print(y_pred_proba2[i], tokenizer.sequences_to_texts([X_test[i]]))"
   ]
  },
  {
   "cell_type": "code",
   "execution_count": 474,
   "id": "fb1431b7-486b-4f6a-bf0c-dc5be70cbf1c",
   "metadata": {},
   "outputs": [
    {
     "name": "stdout",
     "output_type": "stream",
     "text": [
      "[0.9999956] ['make purchas base know things one tim problem best thing light need take care littl bit light it big problem light bit bright small problem light bit dim big problem light bright small problem light bright big problem light bright small problem light bright big problem light dim']\n",
      "[0.999997] ['actual bought son qualiti good reason gave 4 star plastic part hard put on materi thick materi durable would suggest']\n",
      "[0.99999726] ['thing real profession qualiti product also strong one want get feet wet trs 80 go it']\n",
      "[0.9999974] ['gener backpack purposes excel qualiti chain keep next coupl years beginner probabl chain you experienc rider go chain bought husband christma love it impress qualiti construction happi it works love fact easi use carry thing would chang color']\n",
      "[0.9999979] ['chip coffe kind sweet treat admit tempt give book try charact complex plot interesting recommend book mani people good book receiv free copi book netgalley exchang honest review i love read live young women train group young men want know train crew would']\n"
     ]
    }
   ],
   "source": [
    "for i in indices[-6:-1]:\n",
    "    print(y_pred_proba2[i], tokenizer.sequences_to_texts([X_test[i]]))"
   ]
  },
  {
   "cell_type": "code",
   "execution_count": 506,
   "id": "64276df8-be3d-4339-b9e8-a7ddb6e36571",
   "metadata": {},
   "outputs": [],
   "source": [
    "real_rev = 'This plant pot looks good and fits the plant well. Was a reasonable price, but I am concerned about how to tell how much water my plant will need because I can’t see when water comes out the bottom.'"
   ]
  },
  {
   "cell_type": "code",
   "execution_count": 544,
   "id": "2b203c8c-6d92-45a5-98d4-b41bb35a8008",
   "metadata": {},
   "outputs": [
    {
     "data": {
      "text/plain": [
       "array([[ 171, 2660, 1097, 2607,    5,  339, 3170,  300, 2660,   10, 1186,\n",
       "         166, 4673,   47,  526,   18, 2580, 6932,  975, 2739,  397,  307,\n",
       "        2739,   43,  162, 5506, 2660, 1070,   55, 6629,   18,   53, 3102,\n",
       "         162, 7990,  214,  300,  303,    0,    0,    0,    0,    0,    0,\n",
       "           0,    0,    0,    0,    0,    0,    0,    0,    0,    0,    0,\n",
       "           0,    0,    0,    0,    0,    0,    0,    0,    0,    0,    0,\n",
       "           0,    0,    0,    0,    0,    0,    0,    0,    0,    0,    0,\n",
       "           0,    0,    0,    0,    0,    0,    0,    0,    0,    0,    0,\n",
       "           0,    0,    0,    0,    0,    0,    0,    0,    0,    0,    0,\n",
       "           0]], dtype=int32)"
      ]
     },
     "execution_count": 544,
     "metadata": {},
     "output_type": "execute_result"
    }
   ],
   "source": [
    "real_tokens = np.array(tokenizer.texts_to_sequences([real_rev]))\n",
    "real_tokens = pad_sequences(real_tokens, maxlen=100, padding='post')\n",
    "real_tokens"
   ]
  },
  {
   "cell_type": "code",
   "execution_count": 546,
   "id": "9726cd86-3c4b-4d1c-9758-1f67944b82f9",
   "metadata": {},
   "outputs": [
    {
     "name": "stdout",
     "output_type": "stream",
     "text": [
      "\u001b[1m1/1\u001b[0m \u001b[32m━━━━━━━━━━━━━━━━━━━━\u001b[0m\u001b[37m\u001b[0m \u001b[1m0s\u001b[0m 29ms/step\n"
     ]
    },
    {
     "data": {
      "text/plain": [
       "array([[0.49317297]], dtype=float32)"
      ]
     },
     "execution_count": 546,
     "metadata": {},
     "output_type": "execute_result"
    }
   ],
   "source": [
    "model2.predict(real_tokens)"
   ]
  },
  {
   "cell_type": "code",
   "execution_count": 548,
   "id": "f8c422bb-58d6-4801-a3a4-b7d7af901ed7",
   "metadata": {},
   "outputs": [],
   "source": [
    "fake_rev = 'Sturdy and stylish! This ceramic planter is well-made with a clean, modern look. The drainage hole is a great feature, and it fits medium-sized plants perfectly. Great value for the price—highly recommend for indoor use.'"
   ]
  },
  {
   "cell_type": "code",
   "execution_count": 550,
   "id": "1a81ad8b-ec0c-4b22-a4a9-ebe6aa62a2be",
   "metadata": {},
   "outputs": [
    {
     "data": {
      "text/plain": [
       "array([[ 274,  339, 2008,  171,  384,   10,   41,  485,  166,  159, 1540,\n",
       "          17,  300,  525,  384,  166,    2, 1329,  339,    6, 3170,  431,\n",
       "        4867, 8421,  238,    2,  497,  461,  300,   16,  461, 1963,    8,\n",
       "           0,    0,    0,    0,    0,    0,    0,    0,    0,    0,    0,\n",
       "           0,    0,    0,    0,    0,    0,    0,    0,    0,    0,    0,\n",
       "           0,    0,    0,    0,    0,    0,    0,    0,    0,    0,    0,\n",
       "           0,    0,    0,    0,    0,    0,    0,    0,    0,    0,    0,\n",
       "           0,    0,    0,    0,    0,    0,    0,    0,    0,    0,    0,\n",
       "           0,    0,    0,    0,    0,    0,    0,    0,    0,    0,    0,\n",
       "           0]], dtype=int32)"
      ]
     },
     "execution_count": 550,
     "metadata": {},
     "output_type": "execute_result"
    }
   ],
   "source": [
    "fake_tokens = np.array(tokenizer.texts_to_sequences([fake_rev]))\n",
    "fake_tokens = pad_sequences(fake_tokens, maxlen=100, padding='post')\n",
    "fake_tokens"
   ]
  },
  {
   "cell_type": "code",
   "execution_count": 552,
   "id": "82d348d2-42b8-4bb2-aabc-28c9f2dbdd8f",
   "metadata": {},
   "outputs": [
    {
     "name": "stdout",
     "output_type": "stream",
     "text": [
      "\u001b[1m1/1\u001b[0m \u001b[32m━━━━━━━━━━━━━━━━━━━━\u001b[0m\u001b[37m\u001b[0m \u001b[1m0s\u001b[0m 46ms/step\n"
     ]
    },
    {
     "data": {
      "text/plain": [
       "array([[0.0854285]], dtype=float32)"
      ]
     },
     "execution_count": 552,
     "metadata": {},
     "output_type": "execute_result"
    }
   ],
   "source": [
    "model2.predict(fake_tokens)"
   ]
  }
 ],
 "metadata": {
  "kernelspec": {
   "display_name": "Python 3 (ipykernel)",
   "language": "python",
   "name": "python3"
  },
  "language_info": {
   "codemirror_mode": {
    "name": "ipython",
    "version": 3
   },
   "file_extension": ".py",
   "mimetype": "text/x-python",
   "name": "python",
   "nbconvert_exporter": "python",
   "pygments_lexer": "ipython3",
   "version": "3.12.4"
  }
 },
 "nbformat": 4,
 "nbformat_minor": 5
}
